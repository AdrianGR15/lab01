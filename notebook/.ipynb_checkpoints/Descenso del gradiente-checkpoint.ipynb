{
 "cells": [
  {
   "cell_type": "markdown",
   "metadata": {},
   "source": [
    "# PROCESO DEL DESCENSO DEL GRADIENTE"
   ]
  },
  {
   "cell_type": "markdown",
   "metadata": {},
   "source": [
    "#### Autor: Adrian Gonzalez Retamosa\n",
    "#### Asignatura: Machine Learning\n",
    "#### Fecha: 13/11/2020"
   ]
  },
  {
   "cell_type": "markdown",
   "metadata": {},
   "source": [
    "### Carga de las librerias descargadas en nuestro environment"
   ]
  },
  {
   "cell_type": "code",
   "execution_count": 1,
   "metadata": {},
   "outputs": [],
   "source": [
    "import pandas as pd\n",
    "import numpy as np\n",
    "import matplotlib.pyplot as plt\n",
    "import seaborn as sns"
   ]
  },
  {
   "cell_type": "markdown",
   "metadata": {},
   "source": [
    "### Pequeño EDA del dataset"
   ]
  },
  {
   "cell_type": "markdown",
   "metadata": {},
   "source": [
    "El dataset a trabjar consta de informacion referente a procesos de admision en cierta universidad de 100 alumnos. Las variables son las siguinetes:\n",
    "\n",
    "score-1 - Resultado del primer examen\n",
    "\n",
    "score-2 - Resultado del segundo examen\n",
    "\n",
    "label - Resultado del proceso de admision, 0 si el alumno ha sido rechazado y 1 si el alumno ha sido seleccionado "
   ]
  },
  {
   "cell_type": "code",
   "execution_count": 2,
   "metadata": {},
   "outputs": [],
   "source": [
    "df_notas = pd.read_csv('../data/4_1_data.csv')"
   ]
  },
  {
   "cell_type": "markdown",
   "metadata": {},
   "source": [
    "Antes de comenzar con el proceso del descenso del gradiente vamos obtenr algunos datos sobre nuestro dataset:"
   ]
  },
  {
   "cell_type": "code",
   "execution_count": 3,
   "metadata": {},
   "outputs": [
    {
     "data": {
      "text/plain": [
       "(100, 3)"
      ]
     },
     "execution_count": 3,
     "metadata": {},
     "output_type": "execute_result"
    }
   ],
   "source": [
    "df_notas.shape"
   ]
  },
  {
   "cell_type": "code",
   "execution_count": 4,
   "metadata": {},
   "outputs": [
    {
     "name": "stdout",
     "output_type": "stream",
     "text": [
      "<class 'pandas.core.frame.DataFrame'>\n",
      "RangeIndex: 100 entries, 0 to 99\n",
      "Data columns (total 3 columns):\n",
      " #   Column   Non-Null Count  Dtype  \n",
      "---  ------   --------------  -----  \n",
      " 0   score-1  100 non-null    float64\n",
      " 1   score-2  100 non-null    float64\n",
      " 2   label    100 non-null    int64  \n",
      "dtypes: float64(2), int64(1)\n",
      "memory usage: 2.5 KB\n"
     ]
    }
   ],
   "source": [
    "df_notas.info()"
   ]
  },
  {
   "cell_type": "code",
   "execution_count": 5,
   "metadata": {},
   "outputs": [
    {
     "data": {
      "text/html": [
       "<div>\n",
       "<style scoped>\n",
       "    .dataframe tbody tr th:only-of-type {\n",
       "        vertical-align: middle;\n",
       "    }\n",
       "\n",
       "    .dataframe tbody tr th {\n",
       "        vertical-align: top;\n",
       "    }\n",
       "\n",
       "    .dataframe thead th {\n",
       "        text-align: right;\n",
       "    }\n",
       "</style>\n",
       "<table border=\"1\" class=\"dataframe\">\n",
       "  <thead>\n",
       "    <tr style=\"text-align: right;\">\n",
       "      <th></th>\n",
       "      <th>count</th>\n",
       "      <th>mean</th>\n",
       "      <th>std</th>\n",
       "      <th>min</th>\n",
       "      <th>25%</th>\n",
       "      <th>50%</th>\n",
       "      <th>75%</th>\n",
       "      <th>max</th>\n",
       "    </tr>\n",
       "  </thead>\n",
       "  <tbody>\n",
       "    <tr>\n",
       "      <th>score-1</th>\n",
       "      <td>100.0</td>\n",
       "      <td>65.644</td>\n",
       "      <td>19.458</td>\n",
       "      <td>30.059</td>\n",
       "      <td>50.920</td>\n",
       "      <td>67.033</td>\n",
       "      <td>80.213</td>\n",
       "      <td>99.828</td>\n",
       "    </tr>\n",
       "    <tr>\n",
       "      <th>score-2</th>\n",
       "      <td>100.0</td>\n",
       "      <td>66.222</td>\n",
       "      <td>18.583</td>\n",
       "      <td>30.603</td>\n",
       "      <td>48.179</td>\n",
       "      <td>67.682</td>\n",
       "      <td>79.361</td>\n",
       "      <td>98.869</td>\n",
       "    </tr>\n",
       "  </tbody>\n",
       "</table>\n",
       "</div>"
      ],
      "text/plain": [
       "         count    mean     std     min     25%     50%     75%     max\n",
       "score-1  100.0  65.644  19.458  30.059  50.920  67.033  80.213  99.828\n",
       "score-2  100.0  66.222  18.583  30.603  48.179  67.682  79.361  98.869"
      ]
     },
     "execution_count": 5,
     "metadata": {},
     "output_type": "execute_result"
    }
   ],
   "source": [
    "round(df_notas.iloc[:,[0,1]].describe(),3).T"
   ]
  },
  {
   "cell_type": "markdown",
   "metadata": {},
   "source": [
    "Realizamos un grafico de dispersion entre el examen 1 y 2, diferenciando por colores aquellos alumnos que fueron admitidos"
   ]
  },
  {
   "cell_type": "code",
   "execution_count": 6,
   "metadata": {},
   "outputs": [
    {
     "data": {
      "image/png": "[encoded data removed]",
      "text/plain": [
       "<Figure size 432x288 with 1 Axes>"
      ]
     },
     "metadata": {
      "needs_background": "light"
     },
     "output_type": "display_data"
    }
   ],
   "source": [
    "sns.scatterplot(x = df_notas.iloc[:,0],\n",
    "                y = df_notas.iloc[:,1],\n",
    "                hue = df_notas.iloc[:,2])\n",
    "plt.title('Admision en funcion de las notas en el Examen 1 y 2');"
   ]
  },
  {
   "cell_type": "markdown",
   "metadata": {},
   "source": [
    "### Proceso del descenso del gradiente"
   ]
  },
  {
   "cell_type": "code",
   "execution_count": 7,
   "metadata": {},
   "outputs": [],
   "source": [
    "X = df_notas.iloc[:,[0,1]].values #guardamos en la matriz X los valores de nuestros regresores\n",
    "Y = df_notas.iloc[:,-1].values #guaradamos en Y los valores de nuestra variable dependiente "
   ]
  },
  {
   "cell_type": "code",
   "execution_count": 8,
   "metadata": {},
   "outputs": [],
   "source": [
    "mean_X = np.mean(X, axis=0) # Calculamos el valor medio de cada una de las variables predictoras\n",
    "std_X = np.std(X, axis=0) # hacemos lo mismo claculando la desviacion tipica \n",
    "X = (X - mean_X) / std_X #Renombramos a la matriz X con los valores ya estandarizados que nos ayudaran con los calculos \n",
    "\n",
    "n = X.shape[0] #guardamos en n el numero de obs, en nuestro caso 100\n",
    "m = X.shape[1] #guardamos en m el numero de regresores, en nuestro caso 2, sin contar la cte \n",
    "\n",
    "X = np.append(np.ones((n, 1)), X, axis=1) #añadimos a la matriz X una columna de 100 unos que serviran para el calculo de la cte \n",
    "Y = Y.reshape(n, 1) #convertimo Y en una matriz con tantas filas como obs y solo 1 columna "
   ]
  },
  {
   "cell_type": "markdown",
   "metadata": {},
   "source": [
    "###            FUNCION SIGMOIDE:\n",
    "$$ \\sigma(z) = \\frac{1}{1+e^{-z}}$$"
   ]
  },
  {
   "cell_type": "code",
   "execution_count": 9,
   "metadata": {},
   "outputs": [],
   "source": [
    "# Definimos la funcion sigmoide por la que gracias a sus propiedades nos permiete estirar los valores centrales\n",
    "\n",
    "def sigmoide(z):    \n",
    "    return 1/ (1 + np.exp(-z))"
   ]
  },
  {
   "cell_type": "markdown",
   "metadata": {},
   "source": [
    "### FUNCION DE COSTE:\n",
    "$$J(\\theta) = -\\frac{1}{m} \\sum_{i=1}^{m} [ y^{(i)}log(h_{\\theta}(x^{(i)})) + (1 - y^{(i)})log(1 - (h_{\\theta}(x^{(i)}))]$$\n"
   ]
  },
  {
   "cell_type": "code",
   "execution_count": 10,
   "metadata": {},
   "outputs": [],
   "source": [
    "# Definimos la funcion de coste, y a taves de la regresion logistica minimizaremos el valor de esta funcion gracias al gradiente\n",
    "\n",
    "def f_coste(theta, x, y):\n",
    "    \n",
    "    m = n #numero de obs  \n",
    "    \n",
    "    y_pred = sigmoide(np.dot(x , theta)) #guardamos en y_pred el resultado de aplicar a la funcion sigmoide el producto escalar de la matriz de regresores y la matriz de los parametros estimados. Que es lo que definimos en en nuestra funcion como h0.  \n",
    "    error = (y * np.log(y_pred)) + ((1 - y) * np.log(1 - y_pred)) #escribimos la funcion j(0) \n",
    "    cost = -1 / m * sum(error) # hacemos -1 / entre el producto del numero de obs y el sumatorio del error que sera el error alcanzado en ese momento \n",
    "    gradient = 1 / m * np.dot(x.transpose(), (y_pred - y)) # son los parametros asociados a ese valor de la funcion de coste \n",
    "    \n",
    "    return cost[0] , gradient # la funcion devuelve el primer valor de funcion de coste y sus valores asociados "
   ]
  },
  {
   "cell_type": "code",
   "execution_count": 11,
   "metadata": {},
   "outputs": [
    {
     "name": "stdout",
     "output_type": "stream",
     "text": [
      "Coste inicial 0.693147180559946\n",
      "Inicializacion del gradiente: [[-0.1       ]\n",
      " [-0.28122914]\n",
      " [-0.25098615]]\n"
     ]
    }
   ],
   "source": [
    "theta_init = np.zeros((m + 1, 1)) # definimos nuestra matriz con los parametros iniciales, con numero de filas igual al numero de filas de X mas la cte y numero de columnas 1  \n",
    "cost, gradient = f_coste(theta_init, X, Y) # guardamos en esas variables los resultados de la funcion coste y el gradiente asociado \n",
    "\n",
    "print(\"Coste inicial\", cost) #imprimimos el coste y los valores del gradiente\n",
    "print(\"Inicializacion del gradiente:\", gradient)"
   ]
  },
  {
   "cell_type": "markdown",
   "metadata": {},
   "source": [
    "### Definimos el descenso del gradiente que nos minimizara el coste:\n",
    "$$ \\frac{\\partial J(\\theta)}{\\partial \\theta_j} = \\frac{1}{m} \\sum_{i=1}^{m} (h_{\\theta}(x^{(i)}) - y^{(i)})x_j^{(i)}$$"
   ]
  },
  {
   "cell_type": "code",
   "execution_count": 12,
   "metadata": {},
   "outputs": [],
   "source": [
    "# Definos el descenso del gradiente para encontrar el valor del coste min con nuestro numero de iteraciones y los parametros asociados \n",
    "\n",
    "def descenso_gradiente(x, y, theta, alpha, iterations):\n",
    "    costs = [] #creamos una lista donde guardaremos los diferentes valores de la funcion coste \n",
    "    for i in range(iterations): #hacemos un for que nos vaya obteniendo los diferentes valores de la funcion coste y sus parametros \n",
    "        cost, gradient = f_coste(theta, x, y)\n",
    "        theta -= (alpha * gradient) #los parametros que generan el menor error teniendo en cunta la tasa de aprendizaje y el gradiente.  \n",
    "        costs.append(cost) #vamos rellenado la lista creada con los diferentes costes que obtengamos \n",
    "    return theta, costs"
   ]
  },
  {
   "cell_type": "code",
   "execution_count": 13,
   "metadata": {},
   "outputs": [],
   "source": [
    "theta, costs = descenso_gradiente(X, Y, theta_init, 1, 500) #guardamos los parametros que van minimizando el coste y los costes asociados "
   ]
  },
  {
   "cell_type": "code",
   "execution_count": 14,
   "metadata": {},
   "outputs": [
    {
     "name": "stdout",
     "output_type": "stream",
     "text": [
      "Parametros que minimizan el coste con 500 iteraciones : [[1.6860838 ]\n",
      " [3.92373195]\n",
      " [3.65831667]]\n",
      "Coste minimizado con 500 iteraciones: 0.20352828548260682\n"
     ]
    }
   ],
   "source": [
    "print(\"Parametros que minimizan el coste con 500 iteraciones :\", theta) #obtenmos los parametros asociados a ese coste minimo que encontramos con dichas iteracions y tasa de aprendizaje\n",
    "print(\"Coste minimizado con 500 iteraciones:\", costs[-1]) # seleccinamos el ultimo elemento de la lista coste, es mas bajo que hemos obtenido "
   ]
  },
  {
   "cell_type": "markdown",
   "metadata": {},
   "source": [
    "### Grafico de la evolucion del coste"
   ]
  },
  {
   "cell_type": "code",
   "execution_count": 15,
   "metadata": {},
   "outputs": [
    {
     "data": {
      "image/png": "[encoded data removed]",
      "text/plain": [
       "<Figure size 432x288 with 1 Axes>"
      ]
     },
     "metadata": {
      "needs_background": "light"
     },
     "output_type": "display_data"
    }
   ],
   "source": [
    "plt.plot(costs, color = 'red')\n",
    "plt.xlabel(\"Iteraciones\")\n",
    "plt.ylabel(\"Coste\")\n",
    "plt.title(\"Evolucion del coste en funcion del numero de iteraciones\");"
   ]
  }
 ],
 "metadata": {
  "kernelspec": {
   "display_name": "env Gradient Descent",
   "language": "python",
   "name": "gd_env"
  },
  "language_info": {
   "codemirror_mode": {
    "name": "ipython",
    "version": 3
   },
   "file_extension": ".py",
   "mimetype": "text/x-python",
   "name": "python",
   "nbconvert_exporter": "python",
   "pygments_lexer": "ipython3",
   "version": "3.8.5"
  }
 },
 "nbformat": 4,
 "nbformat_minor": 4
}
